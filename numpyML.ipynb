{
 "cells": [
  {
   "cell_type": "markdown",
   "id": "871528cb",
   "metadata": {},
   "source": [
    "# Installation"
   ]
  },
  {
   "cell_type": "code",
   "execution_count": 1,
   "id": "d7e5ee11",
   "metadata": {},
   "outputs": [],
   "source": [
    "#INSTALLATION"
   ]
  },
  {
   "cell_type": "markdown",
   "id": "69455dba",
   "metadata": {},
   "source": [
    "# Creating Array"
   ]
  },
  {
   "cell_type": "code",
   "execution_count": 2,
   "id": "fe26e4b2",
   "metadata": {},
   "outputs": [],
   "source": [
    "import numpy as np"
   ]
  },
  {
   "cell_type": "code",
   "execution_count": 3,
   "id": "4169a61d",
   "metadata": {},
   "outputs": [
    {
     "name": "stdout",
     "output_type": "stream",
     "text": [
      "[[1 2 3 4]\n",
      " [5 6 7 8]]\n"
     ]
    }
   ],
   "source": [
    "arr_2d = np.array([[1,2,3,4],[5,6,7,8]])\n",
    "print (arr_2d)"
   ]
  },
  {
   "cell_type": "code",
   "execution_count": 4,
   "id": "9691b5a6",
   "metadata": {},
   "outputs": [
    {
     "data": {
      "text/plain": [
       "array([[1, 2, 3, 4],\n",
       "       [5, 6, 7, 8]])"
      ]
     },
     "execution_count": 4,
     "metadata": {},
     "output_type": "execute_result"
    }
   ],
   "source": [
    "arr_2d"
   ]
  },
  {
   "cell_type": "markdown",
   "id": "bcad7117",
   "metadata": {},
   "source": [
    "# one's and zero's"
   ]
  },
  {
   "cell_type": "code",
   "execution_count": 5,
   "id": "fd1c350f",
   "metadata": {},
   "outputs": [
    {
     "name": "stdout",
     "output_type": "stream",
     "text": [
      "[[1 1 1 1 1]\n",
      " [1 1 1 1 1]]\n"
     ]
    }
   ],
   "source": [
    "a = np.ones((2,5), dtype=int)\n",
    "print (a)"
   ]
  },
  {
   "cell_type": "code",
   "execution_count": 6,
   "id": "ff58674e",
   "metadata": {},
   "outputs": [
    {
     "name": "stdout",
     "output_type": "stream",
     "text": [
      "[[0 0]\n",
      " [0 0]\n",
      " [0 0]\n",
      " [0 0]\n",
      " [0 0]]\n"
     ]
    }
   ],
   "source": [
    "zero = np.zeros((5,2), dtype = int)\n",
    "print (zero)"
   ]
  },
  {
   "cell_type": "markdown",
   "id": "1507f865",
   "metadata": {},
   "source": [
    "# Arange\n"
   ]
  },
  {
   "cell_type": "code",
   "execution_count": 13,
   "id": "149253da",
   "metadata": {},
   "outputs": [
    {
     "name": "stdout",
     "output_type": "stream",
     "text": [
      "[1 3 5 7 9]\n"
     ]
    }
   ],
   "source": [
    "range = np.arange(1,11,2)\n",
    "print(range)"
   ]
  },
  {
   "cell_type": "markdown",
   "id": "ca7cd834",
   "metadata": {},
   "source": [
    "# Linespace"
   ]
  },
  {
   "cell_type": "code",
   "execution_count": 7,
   "id": "73e79e8c",
   "metadata": {},
   "outputs": [
    {
     "name": "stdout",
     "output_type": "stream",
     "text": [
      "[2 4 6 8]\n"
     ]
    }
   ],
   "source": [
    "line_space = np.linspace(2,8,4,dtype = int)\n",
    "print(line_space)"
   ]
  },
  {
   "cell_type": "markdown",
   "id": "a4828486",
   "metadata": {},
   "source": [
    "# Reshape"
   ]
  },
  {
   "cell_type": "code",
   "execution_count": 8,
   "id": "d27d169b",
   "metadata": {},
   "outputs": [
    {
     "name": "stdout",
     "output_type": "stream",
     "text": [
      "[[1 2]\n",
      " [3 4]\n",
      " [5 6]\n",
      " [7 8]]\n"
     ]
    }
   ],
   "source": [
    "re_shape = arr_2d.reshape(4,2)\n",
    "print(re_shape)"
   ]
  },
  {
   "cell_type": "code",
   "execution_count": 9,
   "id": "2e2923a6",
   "metadata": {},
   "outputs": [
    {
     "name": "stdout",
     "output_type": "stream",
     "text": [
      "[[10 11 12 13 14]\n",
      " [15 16 17 18 19]]\n"
     ]
    }
   ],
   "source": [
    "x = np.arange(10,20).reshape(2,5)\n",
    "print(x)"
   ]
  },
  {
   "cell_type": "markdown",
   "id": "377f8801",
   "metadata": {},
   "source": [
    "# Ravel"
   ]
  },
  {
   "cell_type": "code",
   "execution_count": 10,
   "id": "2db5296a",
   "metadata": {},
   "outputs": [
    {
     "data": {
      "text/plain": [
       "array([10, 11, 12, 13, 14, 15, 16, 17, 18, 19])"
      ]
     },
     "execution_count": 10,
     "metadata": {},
     "output_type": "execute_result"
    }
   ],
   "source": [
    "x.ravel()\n",
    "#n-D to 1 D "
   ]
  },
  {
   "cell_type": "markdown",
   "id": "2a071223",
   "metadata": {},
   "source": [
    "# Transpose"
   ]
  },
  {
   "cell_type": "code",
   "execution_count": 15,
   "id": "ec1f56f5",
   "metadata": {},
   "outputs": [
    {
     "data": {
      "text/plain": [
       "array([[10, 15],\n",
       "       [11, 16],\n",
       "       [12, 17],\n",
       "       [13, 18],\n",
       "       [14, 19]])"
      ]
     },
     "execution_count": 15,
     "metadata": {},
     "output_type": "execute_result"
    }
   ],
   "source": [
    "x.transpose()\n",
    "#name.T can also be used"
   ]
  },
  {
   "cell_type": "markdown",
   "id": "0607f41d",
   "metadata": {},
   "source": [
    "# Mathematical operation"
   ]
  },
  {
   "cell_type": "code",
   "execution_count": 20,
   "id": "2ba098ec",
   "metadata": {},
   "outputs": [
    {
     "name": "stdout",
     "output_type": "stream",
     "text": [
      "[[1 2 3]\n",
      " [4 5 6]\n",
      " [7 8 9]] [[10 11 12]\n",
      " [13 14 15]\n",
      " [16 17 18]]\n",
      "[[11 13 15]\n",
      " [17 19 21]\n",
      " [23 25 27]]\n",
      "[[9 9 9]\n",
      " [9 9 9]\n",
      " [9 9 9]]\n"
     ]
    }
   ],
   "source": [
    "arr1 = np.arange(1,10).reshape(3,3)\n",
    "arr2 = np.arange(10,19).reshape(3,3)\n",
    "sum=np.add(arr1,arr2)\n",
    "sub=np.subtract(arr2,arr1)\n",
    "print(arr1,arr2)\n",
    "print(sum)\n",
    "print(sub)"
   ]
  },
  {
   "cell_type": "code",
   "execution_count": 21,
   "id": "884744a6",
   "metadata": {},
   "outputs": [
    {
     "data": {
      "text/plain": [
       "array([[10.        ,  5.5       ,  4.        ],\n",
       "       [ 3.25      ,  2.8       ,  2.5       ],\n",
       "       [ 2.28571429,  2.125     ,  2.        ]])"
      ]
     },
     "execution_count": 21,
     "metadata": {},
     "output_type": "execute_result"
    }
   ],
   "source": [
    "arr2/arr1"
   ]
  },
  {
   "cell_type": "code",
   "execution_count": 22,
   "id": "de5198b4",
   "metadata": {},
   "outputs": [
    {
     "data": {
      "text/plain": [
       "array([[ 10,  22,  36],\n",
       "       [ 52,  70,  90],\n",
       "       [112, 136, 162]])"
      ]
     },
     "execution_count": 22,
     "metadata": {},
     "output_type": "execute_result"
    }
   ],
   "source": [
    "arr1 * arr2"
   ]
  },
  {
   "cell_type": "markdown",
   "id": "a29d12fe",
   "metadata": {},
   "source": [
    "# Matrix product"
   ]
  },
  {
   "cell_type": "code",
   "execution_count": 23,
   "id": "4b923dd0",
   "metadata": {},
   "outputs": [
    {
     "data": {
      "text/plain": [
       "array([[ 84,  90,  96],\n",
       "       [201, 216, 231],\n",
       "       [318, 342, 366]])"
      ]
     },
     "execution_count": 23,
     "metadata": {},
     "output_type": "execute_result"
    }
   ],
   "source": [
    "arr1 @ arr2"
   ]
  },
  {
   "cell_type": "code",
   "execution_count": 24,
   "id": "77d52ad5",
   "metadata": {},
   "outputs": [
    {
     "data": {
      "text/plain": [
       "array([[ 84,  90,  96],\n",
       "       [201, 216, 231],\n",
       "       [318, 342, 366]])"
      ]
     },
     "execution_count": 24,
     "metadata": {},
     "output_type": "execute_result"
    }
   ],
   "source": [
    "arr1.dot(arr2)"
   ]
  },
  {
   "cell_type": "markdown",
   "id": "56e675f8",
   "metadata": {},
   "source": [
    "# Maximum element"
   ]
  },
  {
   "cell_type": "code",
   "execution_count": 27,
   "id": "b84fd5c3",
   "metadata": {},
   "outputs": [
    {
     "data": {
      "text/plain": [
       "array([[10, 11, 12],\n",
       "       [13, 14, 15],\n",
       "       [16, 17, 18]])"
      ]
     },
     "execution_count": 27,
     "metadata": {},
     "output_type": "execute_result"
    }
   ],
   "source": [
    "arr2"
   ]
  },
  {
   "cell_type": "code",
   "execution_count": 26,
   "id": "b5165a99",
   "metadata": {},
   "outputs": [
    {
     "data": {
      "text/plain": [
       "18"
      ]
     },
     "execution_count": 26,
     "metadata": {},
     "output_type": "execute_result"
    }
   ],
   "source": [
    "arr2.max()"
   ]
  },
  {
   "cell_type": "code",
   "execution_count": 30,
   "id": "62d9fb2c",
   "metadata": {},
   "outputs": [
    {
     "data": {
      "text/plain": [
       "array([16, 17, 18])"
      ]
     },
     "execution_count": 30,
     "metadata": {},
     "output_type": "execute_result"
    }
   ],
   "source": [
    "arr2.max(axis = 0)\n",
    "#max element in each colomn"
   ]
  },
  {
   "cell_type": "code",
   "execution_count": 31,
   "id": "485c4d86",
   "metadata": {},
   "outputs": [
    {
     "data": {
      "text/plain": [
       "array([12, 15, 18])"
      ]
     },
     "execution_count": 31,
     "metadata": {},
     "output_type": "execute_result"
    }
   ],
   "source": [
    "arr2.max(axis=1)\n",
    "#max element in each row"
   ]
  },
  {
   "cell_type": "code",
   "execution_count": 32,
   "id": "514e82e1",
   "metadata": {},
   "outputs": [],
   "source": [
    "#similar for minimum use min"
   ]
  },
  {
   "cell_type": "markdown",
   "id": "026e7c6a",
   "metadata": {},
   "source": [
    "# Sum "
   ]
  },
  {
   "cell_type": "code",
   "execution_count": 35,
   "id": "54d97d36",
   "metadata": {},
   "outputs": [
    {
     "data": {
      "text/plain": [
       "126"
      ]
     },
     "execution_count": 35,
     "metadata": {},
     "output_type": "execute_result"
    }
   ],
   "source": [
    "np.sum(arr2)\n",
    "#or arr2.sum()"
   ]
  },
  {
   "cell_type": "code",
   "execution_count": 36,
   "id": "7d3c8053",
   "metadata": {},
   "outputs": [
    {
     "data": {
      "text/plain": [
       "array([39, 42, 45])"
      ]
     },
     "execution_count": 36,
     "metadata": {},
     "output_type": "execute_result"
    }
   ],
   "source": [
    "arr2.sum(axis=0)"
   ]
  },
  {
   "cell_type": "code",
   "execution_count": 37,
   "id": "4e524e19",
   "metadata": {},
   "outputs": [
    {
     "data": {
      "text/plain": [
       "14.0"
      ]
     },
     "execution_count": 37,
     "metadata": {},
     "output_type": "execute_result"
    }
   ],
   "source": [
    "arr2.mean()"
   ]
  },
  {
   "cell_type": "code",
   "execution_count": 38,
   "id": "1da30854",
   "metadata": {},
   "outputs": [],
   "source": [
    "#similarly we can find log() exp() sqrt() std()-standarddeviation"
   ]
  },
  {
   "cell_type": "markdown",
   "id": "ffa3a482",
   "metadata": {},
   "source": [
    "# Array slicing"
   ]
  },
  {
   "cell_type": "code",
   "execution_count": 39,
   "id": "c3013403",
   "metadata": {},
   "outputs": [
    {
     "name": "stdout",
     "output_type": "stream",
     "text": [
      "[[  1   2   3   4   5   6   7   8   9  10]\n",
      " [ 11  12  13  14  15  16  17  18  19  20]\n",
      " [ 21  22  23  24  25  26  27  28  29  30]\n",
      " [ 31  32  33  34  35  36  37  38  39  40]\n",
      " [ 41  42  43  44  45  46  47  48  49  50]\n",
      " [ 51  52  53  54  55  56  57  58  59  60]\n",
      " [ 61  62  63  64  65  66  67  68  69  70]\n",
      " [ 71  72  73  74  75  76  77  78  79  80]\n",
      " [ 81  82  83  84  85  86  87  88  89  90]\n",
      " [ 91  92  93  94  95  96  97  98  99 100]]\n"
     ]
    }
   ],
   "source": [
    "s = np.arange(1,101).reshape(10,10)\n",
    "print (s)"
   ]
  },
  {
   "cell_type": "code",
   "execution_count": 41,
   "id": "b7869ce9",
   "metadata": {},
   "outputs": [
    {
     "data": {
      "text/plain": [
       "array([ 1,  2,  3,  4,  5,  6,  7,  8,  9, 10])"
      ]
     },
     "execution_count": 41,
     "metadata": {},
     "output_type": "execute_result"
    }
   ],
   "source": [
    "s[0]"
   ]
  },
  {
   "cell_type": "code",
   "execution_count": 42,
   "id": "4bce14ed",
   "metadata": {},
   "outputs": [
    {
     "data": {
      "text/plain": [
       "array([ 1, 11, 21, 31, 41, 51, 61, 71, 81, 91])"
      ]
     },
     "execution_count": 42,
     "metadata": {},
     "output_type": "execute_result"
    }
   ],
   "source": [
    "s[:,0]"
   ]
  },
  {
   "cell_type": "code",
   "execution_count": 43,
   "id": "615ffc64",
   "metadata": {},
   "outputs": [
    {
     "data": {
      "text/plain": [
       "array([[ 1],\n",
       "       [11],\n",
       "       [21],\n",
       "       [31],\n",
       "       [41],\n",
       "       [51],\n",
       "       [61],\n",
       "       [71],\n",
       "       [81],\n",
       "       [91]])"
      ]
     },
     "execution_count": 43,
     "metadata": {},
     "output_type": "execute_result"
    }
   ],
   "source": [
    "s[:,0:1]"
   ]
  },
  {
   "cell_type": "code",
   "execution_count": 44,
   "id": "8044925c",
   "metadata": {},
   "outputs": [
    {
     "data": {
      "text/plain": [
       "array([[ 67,  68,  69,  70],\n",
       "       [ 77,  78,  79,  80],\n",
       "       [ 87,  88,  89,  90],\n",
       "       [ 97,  98,  99, 100]])"
      ]
     },
     "execution_count": 44,
     "metadata": {},
     "output_type": "execute_result"
    }
   ],
   "source": [
    "s[6:10 , 6:10]"
   ]
  },
  {
   "cell_type": "markdown",
   "id": "fe0382fc",
   "metadata": {},
   "source": [
    "# Array conctination and split"
   ]
  },
  {
   "cell_type": "code",
   "execution_count": 45,
   "id": "6242bc32",
   "metadata": {},
   "outputs": [
    {
     "data": {
      "text/plain": [
       "array([[1, 2, 3],\n",
       "       [4, 5, 6],\n",
       "       [7, 8, 9]])"
      ]
     },
     "execution_count": 45,
     "metadata": {},
     "output_type": "execute_result"
    }
   ],
   "source": [
    "arr1"
   ]
  },
  {
   "cell_type": "code",
   "execution_count": 46,
   "id": "fa9a1210",
   "metadata": {},
   "outputs": [
    {
     "data": {
      "text/plain": [
       "array([[10, 11, 12],\n",
       "       [13, 14, 15],\n",
       "       [16, 17, 18]])"
      ]
     },
     "execution_count": 46,
     "metadata": {},
     "output_type": "execute_result"
    }
   ],
   "source": [
    "arr2"
   ]
  },
  {
   "cell_type": "code",
   "execution_count": 53,
   "id": "7651b86c",
   "metadata": {},
   "outputs": [
    {
     "data": {
      "text/plain": [
       "array([[ 1,  2,  3],\n",
       "       [ 4,  5,  6],\n",
       "       [ 7,  8,  9],\n",
       "       [10, 11, 12],\n",
       "       [13, 14, 15],\n",
       "       [16, 17, 18]])"
      ]
     },
     "execution_count": 53,
     "metadata": {},
     "output_type": "execute_result"
    }
   ],
   "source": [
    "np.concatenate((arr1,arr2))"
   ]
  },
  {
   "cell_type": "code",
   "execution_count": 54,
   "id": "41b7086d",
   "metadata": {},
   "outputs": [
    {
     "data": {
      "text/plain": [
       "array([[ 1,  2,  3],\n",
       "       [ 4,  5,  6],\n",
       "       [ 7,  8,  9],\n",
       "       [10, 11, 12],\n",
       "       [13, 14, 15],\n",
       "       [16, 17, 18]])"
      ]
     },
     "execution_count": 54,
     "metadata": {},
     "output_type": "execute_result"
    }
   ],
   "source": [
    "np.vstack((arr1,arr2))"
   ]
  },
  {
   "cell_type": "code",
   "execution_count": 55,
   "id": "68c3726d",
   "metadata": {},
   "outputs": [
    {
     "data": {
      "text/plain": [
       "array([[ 1,  2,  3, 10, 11, 12],\n",
       "       [ 4,  5,  6, 13, 14, 15],\n",
       "       [ 7,  8,  9, 16, 17, 18]])"
      ]
     },
     "execution_count": 55,
     "metadata": {},
     "output_type": "execute_result"
    }
   ],
   "source": [
    "np.concatenate((arr1,arr2),axis=1)"
   ]
  },
  {
   "cell_type": "code",
   "execution_count": 56,
   "id": "ec598d52",
   "metadata": {},
   "outputs": [
    {
     "data": {
      "text/plain": [
       "array([[ 1,  2,  3, 10, 11, 12],\n",
       "       [ 4,  5,  6, 13, 14, 15],\n",
       "       [ 7,  8,  9, 16, 17, 18]])"
      ]
     },
     "execution_count": 56,
     "metadata": {},
     "output_type": "execute_result"
    }
   ],
   "source": [
    "np.hstack((arr1,arr2))"
   ]
  },
  {
   "cell_type": "code",
   "execution_count": 57,
   "id": "70d123a5",
   "metadata": {},
   "outputs": [
    {
     "data": {
      "text/plain": [
       "array([[1, 2, 3],\n",
       "       [4, 5, 6],\n",
       "       [7, 8, 9]])"
      ]
     },
     "execution_count": 57,
     "metadata": {},
     "output_type": "execute_result"
    }
   ],
   "source": [
    "arr1"
   ]
  },
  {
   "cell_type": "code",
   "execution_count": 66,
   "id": "ec5d0658",
   "metadata": {},
   "outputs": [
    {
     "name": "stdout",
     "output_type": "stream",
     "text": [
      "[[ 1  2  3]\n",
      " [ 4  5  6]\n",
      " [ 7  8  9]\n",
      " [10 11 12]]\n"
     ]
    }
   ],
   "source": [
    "c=np.vstack((arr1,np.array([10,11,12])))\n",
    "print(c)"
   ]
  },
  {
   "cell_type": "code",
   "execution_count": 69,
   "id": "a0c0c438",
   "metadata": {},
   "outputs": [
    {
     "name": "stdout",
     "output_type": "stream",
     "text": [
      "[[ 1  2  3  1  2  3]\n",
      " [ 4  5  6  4  5  6]\n",
      " [ 7  8  9  7  8  9]\n",
      " [10 11 12 10 11 12]]\n"
     ]
    }
   ],
   "source": [
    "arr3=np.concatenate((c,c),axis=1)\n",
    "print(arr3)"
   ]
  },
  {
   "cell_type": "code",
   "execution_count": 71,
   "id": "b2dec1ba",
   "metadata": {},
   "outputs": [
    {
     "data": {
      "text/plain": [
       "[array([[1, 2, 3, 1, 2, 3],\n",
       "        [4, 5, 6, 4, 5, 6]]),\n",
       " array([[ 7,  8,  9,  7,  8,  9],\n",
       "        [10, 11, 12, 10, 11, 12]])]"
      ]
     },
     "execution_count": 71,
     "metadata": {},
     "output_type": "execute_result"
    }
   ],
   "source": [
    "np.split(arr3,2)"
   ]
  },
  {
   "cell_type": "code",
   "execution_count": 72,
   "id": "62f27a81",
   "metadata": {},
   "outputs": [
    {
     "data": {
      "text/plain": [
       "[array([[ 1,  2,  3],\n",
       "        [ 4,  5,  6],\n",
       "        [ 7,  8,  9],\n",
       "        [10, 11, 12]]),\n",
       " array([[ 1,  2,  3],\n",
       "        [ 4,  5,  6],\n",
       "        [ 7,  8,  9],\n",
       "        [10, 11, 12]])]"
      ]
     },
     "execution_count": 72,
     "metadata": {},
     "output_type": "execute_result"
    }
   ],
   "source": [
    "np.split(arr3,2,axis=1)"
   ]
  },
  {
   "cell_type": "code",
   "execution_count": 73,
   "id": "0ba3451a",
   "metadata": {},
   "outputs": [],
   "source": [
    "#elements are in list form but the element of array is in .ndarray"
   ]
  },
  {
   "cell_type": "code",
   "execution_count": null,
   "id": "00ee537f",
   "metadata": {},
   "outputs": [],
   "source": []
  }
 ],
 "metadata": {
  "kernelspec": {
   "display_name": "Python 3",
   "language": "python",
   "name": "python3"
  },
  "language_info": {
   "codemirror_mode": {
    "name": "ipython",
    "version": 3
   },
   "file_extension": ".py",
   "mimetype": "text/x-python",
   "name": "python",
   "nbconvert_exporter": "python",
   "pygments_lexer": "ipython3",
   "version": "3.9.2"
  }
 },
 "nbformat": 4,
 "nbformat_minor": 5
}
