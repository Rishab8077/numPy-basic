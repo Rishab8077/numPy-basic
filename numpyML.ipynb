{
 "cells": [
  {
   "cell_type": "markdown",
   "id": "e29169da",
   "metadata": {},
   "source": [
    "# Installation"
   ]
  },
  {
   "cell_type": "code",
   "execution_count": 10,
   "id": "26995d6e",
   "metadata": {},
   "outputs": [],
   "source": [
    "#INSTALLATION"
   ]
  },
  {
   "cell_type": "markdown",
   "id": "0ff015ea",
   "metadata": {},
   "source": [
    "# Creating Array"
   ]
  },
  {
   "cell_type": "code",
   "execution_count": 1,
   "id": "fe26e4b2",
   "metadata": {},
   "outputs": [],
   "source": [
    "import numpy as np"
   ]
  },
  {
   "cell_type": "code",
   "execution_count": 2,
   "id": "4169a61d",
   "metadata": {},
   "outputs": [
    {
     "name": "stdout",
     "output_type": "stream",
     "text": [
      "[[1 2 3 4]\n",
      " [5 6 7 8]]\n"
     ]
    }
   ],
   "source": [
    "arr_2d = np.array([[1,2,3,4],[5,6,7,8]])\n",
    "print (arr_2d)"
   ]
  },
  {
   "cell_type": "code",
   "execution_count": 3,
   "id": "9691b5a6",
   "metadata": {},
   "outputs": [
    {
     "data": {
      "text/plain": [
       "array([[1, 2, 3, 4],\n",
       "       [5, 6, 7, 8]])"
      ]
     },
     "execution_count": 3,
     "metadata": {},
     "output_type": "execute_result"
    }
   ],
   "source": [
    "arr_2d"
   ]
  },
  {
   "cell_type": "markdown",
   "id": "7f449cbb",
   "metadata": {},
   "source": [
    "# one's and zero's"
   ]
  },
  {
   "cell_type": "code",
   "execution_count": 6,
   "id": "2885d4af",
   "metadata": {},
   "outputs": [
    {
     "name": "stdout",
     "output_type": "stream",
     "text": [
      "[[1 1 1 1 1]\n",
      " [1 1 1 1 1]]\n"
     ]
    }
   ],
   "source": [
    "a = np.ones((2,5), dtype=int)\n",
    "print (a)"
   ]
  },
  {
   "cell_type": "code",
   "execution_count": 23,
   "id": "85c6fd5e",
   "metadata": {},
   "outputs": [
    {
     "name": "stdout",
     "output_type": "stream",
     "text": [
      "[[0 0]\n",
      " [0 0]\n",
      " [0 0]\n",
      " [0 0]\n",
      " [0 0]]\n"
     ]
    }
   ],
   "source": [
    "zero = np.zeros((5,2), dtype = int)\n",
    "print (zero)"
   ]
  },
  {
   "cell_type": "markdown",
   "id": "0c49e6d6",
   "metadata": {},
   "source": [
    "# Arange\n"
   ]
  },
  {
   "cell_type": "code",
   "execution_count": 12,
   "id": "5eefa78d",
   "metadata": {},
   "outputs": [
    {
     "name": "stdout",
     "output_type": "stream",
     "text": [
      "[1 3 5 7 9]\n"
     ]
    }
   ],
   "source": [
    "range = np.arange(1,11,2)\n",
    "print(range)"
   ]
  },
  {
   "cell_type": "markdown",
   "id": "41a03c6e",
   "metadata": {},
   "source": [
    "# Linespace"
   ]
  },
  {
   "cell_type": "code",
   "execution_count": 18,
   "id": "6c690f57",
   "metadata": {},
   "outputs": [
    {
     "name": "stdout",
     "output_type": "stream",
     "text": [
      "[2 4 6 8]\n"
     ]
    }
   ],
   "source": [
    "line_space = np.linspace(2,8,4,dtype = int)\n",
    "print(line_space)"
   ]
  },
  {
   "cell_type": "markdown",
   "id": "4bd6ee92",
   "metadata": {},
   "source": [
    "# Reshape"
   ]
  },
  {
   "cell_type": "code",
   "execution_count": 20,
   "id": "3abaae1f",
   "metadata": {},
   "outputs": [
    {
     "name": "stdout",
     "output_type": "stream",
     "text": [
      "[[1 2]\n",
      " [3 4]\n",
      " [5 6]\n",
      " [7 8]]\n"
     ]
    }
   ],
   "source": [
    "re_shape = arr_2d.reshape(4,2)\n",
    "print(re_shape)"
   ]
  },
  {
   "cell_type": "code",
   "execution_count": 22,
   "id": "1aa0cd0d",
   "metadata": {},
   "outputs": [
    {
     "name": "stdout",
     "output_type": "stream",
     "text": [
      "[[10 11 12 13 14]\n",
      " [15 16 17 18 19]]\n"
     ]
    }
   ],
   "source": [
    "x = np.arange(10,20).reshape(2,5)\n",
    "print(x)"
   ]
  },
  {
   "cell_type": "markdown",
   "id": "0772aef0",
   "metadata": {},
   "source": [
    "# Ravel"
   ]
  },
  {
   "cell_type": "code",
   "execution_count": 25,
   "id": "a1f78a3c",
   "metadata": {},
   "outputs": [
    {
     "data": {
      "text/plain": [
       "array([10, 11, 12, 13, 14, 15, 16, 17, 18, 19])"
      ]
     },
     "execution_count": 25,
     "metadata": {},
     "output_type": "execute_result"
    }
   ],
   "source": [
    "x.ravel()\n",
    "#n-D to 1 D "
   ]
  },
  {
   "cell_type": "code",
   "execution_count": null,
   "id": "48bdc292",
   "metadata": {},
   "outputs": [],
   "source": []
  }
 ],
 "metadata": {
  "kernelspec": {
   "display_name": "Python 3",
   "language": "python",
   "name": "python3"
  },
  "language_info": {
   "codemirror_mode": {
    "name": "ipython",
    "version": 3
   },
   "file_extension": ".py",
   "mimetype": "text/x-python",
   "name": "python",
   "nbconvert_exporter": "python",
   "pygments_lexer": "ipython3",
   "version": "3.9.2"
  }
 },
 "nbformat": 4,
 "nbformat_minor": 5
}
